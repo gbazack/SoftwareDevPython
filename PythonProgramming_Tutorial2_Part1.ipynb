{
 "cells": [
  {
   "cell_type": "markdown",
   "metadata": {},
   "source": [
    "# Tutorial: School Management System\n",
    "In this practice you'll learn to build a system to manage students, teachers, courses and students' evaluations.\n",
    "Information of these assets will be stored in a MySQL database.\n",
    "Python modules are implemented to manipulate this database. Following modules are implemented: queries, teacher, student, course, registration and reporting."
   ]
  },
  {
   "cell_type": "markdown",
   "metadata": {},
   "source": [
    "## queries subpackage\n",
    "This module contains predefined functions with SQL statements to any database and table. Connections and sessions are handled by this module. Some of the functions are: connectServer, connectDB, inserttoTable, select, selectJoin, etc."
   ]
  },
  {
   "cell_type": "markdown",
   "metadata": {},
   "source": [
    "### 1. connection module"
   ]
  },
  {
   "cell_type": "code",
   "execution_count": null,
   "metadata": {},
   "outputs": [],
   "source": [
    "#We implement a few functions of queries module\n",
    "#First we import connect, Error and pooling from mysql connector module\n",
    "import mysql\n",
    "import mysql.connector\n",
    "import mysql.connector.errors\n",
    "from mysql.connector.errors import Error as error\n",
    "#from mysql.connector import pooling \n",
    "#from mysql.connector import connect \n",
    "\n",
    "#Create a function to connect to a MySQL server\n",
    "#connectServer returns a pool of connections\n",
    "def connectServer(hostname, username, passwd, poolsize):\n",
    "    config={\"host\":hostname, \"user\":username, \"password\":passwd}\n",
    "    try:\n",
    "        conPool=mysql.connector.connect(pool_name=\"conPool\", pool_size=poolsize, **config)\n",
    "    except error as Er:\n",
    "        print(\"Impossible to connect to the sever! Please check what's wrong: \", Er)\n",
    "    else:\n",
    "        return conPool\n",
    "\n",
    "#Create a function to connect to a MySQL database\n",
    "#connectDB returns a pool of connections\n",
    "def connectDB(hostname, dbname, username, passwd, poolsize):\n",
    "    config={\"host\":hostname, \"host\":hostname, \"user\":username, \"password\":passwd}\n",
    "    try:\n",
    "        conPool=mysql.connector.connect(pool_name=\"conPool\", pool_size=poolsize, **config)\n",
    "    except error as Er:\n",
    "        print(\"Impossible to connect to the database! Please check what's wrong: \", Er)\n",
    "    else:\n",
    "        #conList=[conPool.get_connection() for i in range(poolsize)]\n",
    "        return conPool"
   ]
  },
  {
   "cell_type": "markdown",
   "metadata": {},
   "source": [
    "### 2. query module"
   ]
  },
  {
   "cell_type": "code",
   "execution_count": null,
   "metadata": {},
   "outputs": [],
   "source": [
    "#Import module\n",
    "import school.queries.connection\n",
    "from ..queries.connection import *\n",
    "\n",
    "#inserttoTable to insert one or several items into a table\n",
    "def inserttoTable(tablename, attributes, values):\n",
    "    #tablename: name of the table\n",
    "    #attributes: list of attributes (string data type)\n",
    "    #values: list of tuples (value1, value2,..., valueN)\n",
    "    #        value: data type corresponds to database attribute type\n",
    "    #        N=len(attributes)\n",
    "        \n",
    "    if len(attributes)==len(values[-1]):\n",
    "        atr=\"(\"\n",
    "        val=\"VALUES(\"\n",
    "        \n",
    "        for i in range(len(attributes)-1):\n",
    "            atr=atr+str(attributes[i])+\",\"\n",
    "            val=val+\"%s,\"\n",
    "        atr=atr+str(attributes[-1])+\")\"\n",
    "        val=val+\"%s)\"\n",
    "        \n",
    "    else:\n",
    "        raise Exception(\"Number of values should correspond to number of attributes: len(values[i])==len(attributes)\")\n",
    "    tb_query=\"INSERT INTO \"+tablename+atr+\" \"+val\n",
    "    \n",
    "    return tb_query\n",
    "\n",
    "\n",
    "#select items from a table\n",
    "def select(tablename, attributes, *args):\n",
    "    #tablename: name of the table\n",
    "    #attributes: list of attributes (string data type)\n",
    "    \n",
    "    atr=attributes[0]\n",
    "    for item in attributes[1:]:\n",
    "        atr=atr+\",\"+item\n",
    "    \n",
    "    if len(args)>0:\n",
    "        tb_query=\"SELECT \"+atr+\" FROM \"+tablename+\" WHERE \"+args[0]\n",
    "    else:\n",
    "        tb_query=\"SELECT \"+atr+\" FROM \"+tablename\n",
    "\n",
    "    return tb_query    \n",
    "\n",
    "#selectJoin to select items from several tables with INNER JOIN\n",
    "def selectJoin(tables, attr, condition):\n",
    "    #tables: \n",
    "    #attr: list of attributes as tablename1.attribute, tablename2.attribute\n",
    "    #condition: condition on which rows of tables are selected\n",
    "    #           tablename1.attribute= or > tablename2.attribute\n",
    "    \n",
    "    \n",
    "    if len(tables)>2:\n",
    "        atr=attr[0]\n",
    "        for item in attr[1:]:\n",
    "            atr=atr+\",\"+item\n",
    "    else:\n",
    "        raise Exception(\"The number of expected tables is: 02\")\n",
    "    \n",
    "    tb_query=\"SELECT \"+atr+\" FROM \"+tables[0]+\" INNER JOIN \"+tables[1]+\" ON \"+condition\n",
    "    \n",
    "    return tb_query"
   ]
  },
  {
   "cell_type": "code",
   "execution_count": null,
   "metadata": {},
   "outputs": [],
   "source": []
  }
 ],
 "metadata": {
  "kernelspec": {
   "display_name": "Python 3",
   "language": "python",
   "name": "python3"
  },
  "language_info": {
   "codemirror_mode": {
    "name": "ipython",
    "version": 3
   },
   "file_extension": ".py",
   "mimetype": "text/x-python",
   "name": "python",
   "nbconvert_exporter": "python",
   "pygments_lexer": "ipython3",
   "version": "3.8.5"
  }
 },
 "nbformat": 4,
 "nbformat_minor": 4
}
