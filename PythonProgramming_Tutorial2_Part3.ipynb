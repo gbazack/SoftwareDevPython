{
 "cells": [
  {
   "cell_type": "code",
   "execution_count": 1,
   "metadata": {},
   "outputs": [],
   "source": [
    "from school.queries.connection import *\n",
    "import school.students.students as students"
   ]
  },
  {
   "cell_type": "markdown",
   "metadata": {},
   "source": [
    "# Add students"
   ]
  },
  {
   "cell_type": "code",
   "execution_count": 3,
   "metadata": {},
   "outputs": [],
   "source": [
    "#Parameters of connection\n",
    "hostname=\"127.0.0.1\"\n",
    "dbname=\"school\"\n",
    "username=\"root\"\n",
    "pwd=\"user\"\n",
    "\n",
    "#Create an instance of Student class\n",
    "student= students.Student(username,pwd)\n",
    "\n",
    "#Create variables to store list of studentsto insert to the database\n",
    "#\n",
    "student_attr=[\"Id\", \"name\", \"email\", \"phone\", \"address\", \"uname\", \"pwd\", \"level\", \"grade\"]\n",
    "student_list=[('2A07', \"Ali Moussa\", \"ali.moussa@xyz.com\", \"237699663300\", \"Soa, Yaoundé\", \"moussa\", \"Moussa2021\", \"Master\",0.0),\n",
    "              ('2A08', \"Abakar\", \"abakar@xyz.com\", \"237688442200\", \"Bini, Ngaoundéré\", \"abakar\", \"Abakar2021\", \"Master\",0.0)]\n",
    "\n",
    "#Call the method addStudent\n",
    "student.addStudent(student_attr, student_list)"
   ]
  },
  {
   "cell_type": "markdown",
   "metadata": {},
   "source": [
    "# Find students"
   ]
  },
  {
   "cell_type": "code",
   "execution_count": 4,
   "metadata": {},
   "outputs": [
    {
     "name": "stdout",
     "output_type": "stream",
     "text": [
      "The student  Ali Moussa lives at  Soa, Yaoundé\n",
      "The student  Abakar lives at  Bini, Ngaoundéré\n"
     ]
    }
   ],
   "source": [
    "student_attr=[\"name\", \"address\"]\n",
    "student_cond=\"level='Master'\"\n",
    "\n",
    "#Call the method selectStudent\n",
    "result=student.selectStudent(student_attr, student_cond)\n",
    "\n",
    "#Customize the output\n",
    "for item in result:\n",
    "    print(\"The student \", item[0], \"lives at \", item[1])"
   ]
  },
  {
   "cell_type": "markdown",
   "metadata": {},
   "source": [
    "# End"
   ]
  },
  {
   "cell_type": "code",
   "execution_count": 4,
   "metadata": {},
   "outputs": [],
   "source": [
    "cnxServer.close()\n",
    "#cnxDB.close()"
   ]
  }
 ],
 "metadata": {
  "kernelspec": {
   "display_name": "Python 3",
   "language": "python",
   "name": "python3"
  },
  "language_info": {
   "codemirror_mode": {
    "name": "ipython",
    "version": 3
   },
   "file_extension": ".py",
   "mimetype": "text/x-python",
   "name": "python",
   "nbconvert_exporter": "python",
   "pygments_lexer": "ipython3",
   "version": "3.8.5"
  }
 },
 "nbformat": 4,
 "nbformat_minor": 4
}
