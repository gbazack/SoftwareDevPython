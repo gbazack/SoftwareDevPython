{
 "cells": [
  {
   "cell_type": "code",
   "execution_count": 2,
   "metadata": {},
   "outputs": [],
   "source": [
    "from mysql.connector import connect, Error"
   ]
  },
  {
   "cell_type": "markdown",
   "metadata": {},
   "source": [
    "### Connecting to MySQL Server"
   ]
  },
  {
   "cell_type": "code",
   "execution_count": 3,
   "metadata": {},
   "outputs": [],
   "source": [
    "cnxServer=connect(host=\"127.0.0.1\", user=\"root\", password=\"user\")\n",
    "\n",
    "cursorServer=cnxServer.cursor()"
   ]
  },
  {
   "cell_type": "markdown",
   "metadata": {},
   "source": [
    "### Connecting to MySQL Database"
   ]
  },
  {
   "cell_type": "code",
   "execution_count": 26,
   "metadata": {},
   "outputs": [],
   "source": [
    "cnxDB=connect(host=\"127.0.0.1\", database=\"companydb\", user=\"root\", password=\"user\")\n",
    "\n",
    "cursorDB=cnxDB.cursor()"
   ]
  },
  {
   "cell_type": "markdown",
   "metadata": {},
   "source": [
    "### Creating a MySQL Database"
   ]
  },
  {
   "cell_type": "code",
   "execution_count": 4,
   "metadata": {
    "scrolled": true
   },
   "outputs": [
    {
     "name": "stdout",
     "output_type": "stream",
     "text": [
      "('information_schema',)\n",
      "('company',)\n",
      "('companydb',)\n",
      "('mysql',)\n",
      "('performance_schema',)\n",
      "('schooldb',)\n",
      "('sys',)\n"
     ]
    }
   ],
   "source": [
    "sql_query=\"CREATE DATABASE companydb\"\n",
    "cursorServer.execute(sql_query)\n",
    "\n",
    "cursorServer.execute(\"SHOW DATABASES\")\n",
    "resultDB=cursorServer.fetchall()\n",
    "\n",
    "for item in resultDB:\n",
    "    print(item)"
   ]
  },
  {
   "cell_type": "markdown",
   "metadata": {},
   "source": [
    "## Manipulating Tables\n",
    "In this section, you'll learn to:\n",
    "1. Create a tables\n",
    "2. Insert elements in a table\n",
    "3. Modify elements of a table\n",
    "4. Delete rows from a table"
   ]
  },
  {
   "cell_type": "code",
   "execution_count": 7,
   "metadata": {},
   "outputs": [],
   "source": [
    "tb_query=\"CREATE TABLE employee(id VARCHAR(10), name VARCHAR(255), position VARCHAR(25), experience INT(2))\"\n",
    "\n",
    "cursorDB.execute(tb_query)"
   ]
  },
  {
   "cell_type": "code",
   "execution_count": 8,
   "metadata": {},
   "outputs": [],
   "source": [
    "tb_query=\"INSERT INTO employee(id, name, position, experience) VALUES(%s, %s, %s, %s)\"\n",
    "val=[\n",
    "    ('IT00056', 'Ali Bouba', 'Junior AI Engineer', 3),\n",
    "    ('IT00057', 'Judith Ebong', 'Junior Software Engineer', 2),\n",
    "    ('IT00058', 'Brenda Ngono', 'Senior Data Scientits', 10),\n",
    "    ('AD00034', 'Isabelle OSHI', 'Accountant', 5),\n",
    "    ('AD00035', 'Pascal Voundi', 'Accountant', 3)]\n",
    "\n",
    "cursorDB.executemany(tb_query, val)\n",
    "cnxDB.commit()"
   ]
  },
  {
   "cell_type": "code",
   "execution_count": 9,
   "metadata": {},
   "outputs": [],
   "source": [
    "tb_query=\"UPDATE employee SET position=%s WHERE id=%s\"\n",
    "\n",
    "val=[('Senior AI Engineer', 'IT00056'),('Managing Director', 'AD00034')]\n",
    "\n",
    "cursorDB.executemany(tb_query, val)\n",
    "cnxDB.commit()"
   ]
  },
  {
   "cell_type": "code",
   "execution_count": 27,
   "metadata": {},
   "outputs": [
    {
     "name": "stdout",
     "output_type": "stream",
     "text": [
      "Ali Bouba has more than 2 years of experience as  Senior AI Engineer\n",
      "Brenda Ngono has more than 2 years of experience as  Senior Data Scientits\n",
      "Isabelle OSHI has more than 2 years of experience as  Managing Director\n",
      "Pascal Voundi has more than 2 years of experience as  Accountant\n"
     ]
    }
   ],
   "source": [
    "cursorDB.execute(\"SELECT name, position FROM employee WHERE experience > 2\")\n",
    "resultDB=cursorDB.fetchall()\n",
    "\n",
    "for item in resultDB:\n",
    "    print(item[0],\"has more than 2 years of experience as \", item[1])"
   ]
  },
  {
   "cell_type": "code",
   "execution_count": 15,
   "metadata": {},
   "outputs": [],
   "source": [
    "cursorDB.execute(\"DELETE FROM employee WHERE experience = 2\")\n",
    "cnxDB.commit()"
   ]
  },
  {
   "cell_type": "code",
   "execution_count": 28,
   "metadata": {},
   "outputs": [
    {
     "name": "stdout",
     "output_type": "stream",
     "text": [
      "('IT00056', 'Ali Bouba', 'Senior AI Engineer', 3)\n",
      "('IT00058', 'Brenda Ngono', 'Senior Data Scientits', 10)\n",
      "('AD00034', 'Isabelle OSHI', 'Managing Director', 5)\n",
      "('AD00035', 'Pascal Voundi', 'Accountant', 3)\n"
     ]
    }
   ],
   "source": [
    "cursorDB.execute(\"SELECT * FROM employee\")\n",
    "resultDB=cursorDB.fetchall()\n",
    "\n",
    "for item in resultDB:\n",
    "    print(item)"
   ]
  }
 ],
 "metadata": {
  "kernelspec": {
   "display_name": "Python 3",
   "language": "python",
   "name": "python3"
  },
  "language_info": {
   "codemirror_mode": {
    "name": "ipython",
    "version": 3
   },
   "file_extension": ".py",
   "mimetype": "text/x-python",
   "name": "python",
   "nbconvert_exporter": "python",
   "pygments_lexer": "ipython3",
   "version": "3.8.5"
  }
 },
 "nbformat": 4,
 "nbformat_minor": 4
}
