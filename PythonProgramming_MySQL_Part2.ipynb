{
 "cells": [
  {
   "cell_type": "code",
   "execution_count": 1,
   "metadata": {},
   "outputs": [],
   "source": [
    "from mysql.connector import connect, Error, pooling"
   ]
  },
  {
   "cell_type": "markdown",
   "metadata": {},
   "source": [
    "### Connecting to MySQL Server"
   ]
  },
  {
   "cell_type": "code",
   "execution_count": 2,
   "metadata": {},
   "outputs": [],
   "source": [
    "cnxServer=connect(host=\"127.0.0.1\", user=\"root\", password=\"user\")\n",
    "\n",
    "cursorServer=cnxServer.cursor()"
   ]
  },
  {
   "cell_type": "markdown",
   "metadata": {},
   "source": [
    "### Connectiong pooling: Implicit way"
   ]
  },
  {
   "cell_type": "code",
   "execution_count": 4,
   "metadata": {},
   "outputs": [],
   "source": [
    "db_config={\"host\":\"127.0.0.1\", \"database\":\"schooldb\", \"user\":\"root\", \"password\":\"user\"}\n",
    "\n",
    "cnxDB=connect(pool_name=\"cnxDBpool\", pool_size=4, **db_config)\n",
    "\n",
    "cursorDB=cnxDB.cursor()"
   ]
  },
  {
   "cell_type": "markdown",
   "metadata": {},
   "source": [
    "### Connectiong pooling: Explicit way"
   ]
  },
  {
   "cell_type": "code",
   "execution_count": 5,
   "metadata": {},
   "outputs": [],
   "source": [
    "db_config={\"host\":\"127.0.0.1\", \"database\":\"companydb\", \"user\":\"root\", \"password\":\"user\"}\n",
    "\n",
    "cnxDBpool=pooling.MySQLConnectionPool(pool_name=\"cnxDBpool\", pool_size=4, **db_config)\n",
    "\n",
    "cnxDB1=cnxDBpool.get_connection()\n",
    "cnxDB2=cnxDBpool.get_connection()"
   ]
  },
  {
   "cell_type": "code",
   "execution_count": null,
   "metadata": {},
   "outputs": [],
   "source": [
    "cnxDB.close()\n",
    "cnxDB1.close()\n",
    "cnxDB2.close()"
   ]
  },
  {
   "cell_type": "markdown",
   "metadata": {},
   "source": [
    "### Managing users"
   ]
  },
  {
   "cell_type": "code",
   "execution_count": 6,
   "metadata": {},
   "outputs": [],
   "source": [
    "cnxServer.cursor().execute(\"CREATE USER 'administrator'@'127.0.0.1' IDENTIFIED BY 'adminpassword'\")"
   ]
  },
  {
   "cell_type": "code",
   "execution_count": 7,
   "metadata": {},
   "outputs": [],
   "source": [
    "cnxServer.cursor().execute(\"ALTER USER 'administrator'@'127.0.0.1' IDENTIFIED BY 'Admin20021' PASSWORD EXPIRE INTERVAL 180 DAY\")"
   ]
  },
  {
   "cell_type": "code",
   "execution_count": 8,
   "metadata": {},
   "outputs": [],
   "source": [
    "cnxServer.cursor().execute(\"GRANT CREATE, INSERT ON schooldb.* TO 'administrator'@'127.0.0.1'\")"
   ]
  },
  {
   "cell_type": "code",
   "execution_count": 9,
   "metadata": {},
   "outputs": [],
   "source": [
    "cnxServer.cursor().execute(\"GRANT ALL ON company.* TO 'administrator'@'127.0.0.1'\")"
   ]
  },
  {
   "cell_type": "markdown",
   "metadata": {},
   "source": [
    "### JOIN Statement"
   ]
  },
  {
   "cell_type": "code",
   "execution_count": 10,
   "metadata": {},
   "outputs": [
    {
     "name": "stdout",
     "output_type": "stream",
     "text": [
      "Teacher Ali BABA teaches Ali Moussa\n",
      "Teacher Moustapha CISSE teaches Ali Moussa\n",
      "Teacher Maria EBONG teaches Ali Moussa\n",
      "Teacher Ali BABA teaches Sandrine Ngono\n",
      "Teacher Moustapha CISSE teaches Sandrine Ngono\n",
      "Teacher Maria EBONG teaches Sandrine Ngono\n"
     ]
    }
   ],
   "source": [
    "cursorDB.execute(\"SELECT student.name, teacher.name FROM student INNER JOIN teacher ON student.level=teacher.class\")\n",
    "\n",
    "resultDB=cursorDB.fetchall()\n",
    "\n",
    "for item in resultDB:\n",
    "    print(\"Teacher\", item[1], \"teaches\", item[0])"
   ]
  },
  {
   "cell_type": "code",
   "execution_count": null,
   "metadata": {},
   "outputs": [],
   "source": []
  }
 ],
 "metadata": {
  "kernelspec": {
   "display_name": "Python 3",
   "language": "python",
   "name": "python3"
  },
  "language_info": {
   "codemirror_mode": {
    "name": "ipython",
    "version": 3
   },
   "file_extension": ".py",
   "mimetype": "text/x-python",
   "name": "python",
   "nbconvert_exporter": "python",
   "pygments_lexer": "ipython3",
   "version": "3.8.5"
  }
 },
 "nbformat": 4,
 "nbformat_minor": 4
}
